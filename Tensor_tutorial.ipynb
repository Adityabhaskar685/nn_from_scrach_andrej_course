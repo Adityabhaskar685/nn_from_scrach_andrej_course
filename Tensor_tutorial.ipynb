{
 "cells": [
  {
   "cell_type": "markdown",
   "id": "c0efab91-36f6-4e2d-b080-c68baf6c0ee9",
   "metadata": {},
   "source": [
    "# Tensor Tutorial in pytorch"
   ]
  },
  {
   "cell_type": "code",
   "execution_count": 1,
   "id": "9b974378-eb33-4555-9a9f-965778a86ff9",
   "metadata": {
    "tags": []
   },
   "outputs": [],
   "source": [
    "import torch\n",
    "import numpy as np"
   ]
  },
  {
   "cell_type": "markdown",
   "id": "619e0ce9-a43f-4740-9cd6-1d96ce188442",
   "metadata": {},
   "source": [
    "Initializing a tensor"
   ]
  },
  {
   "cell_type": "code",
   "execution_count": 11,
   "id": "3a3d3f4f-ef4b-430d-aaac-e71446d7d703",
   "metadata": {
    "tags": []
   },
   "outputs": [
    {
     "data": {
      "text/plain": [
       "tensor([[1, 2],\n",
       "        [3, 4]])"
      ]
     },
     "execution_count": 11,
     "metadata": {},
     "output_type": "execute_result"
    }
   ],
   "source": [
    "# directly from data\n",
    "data = [[1,2],[3,4]]\n",
    "x_data = torch.tensor(data)\n",
    "x_data"
   ]
  },
  {
   "cell_type": "code",
   "execution_count": 9,
   "id": "7038f617-bbf9-4dbf-8956-dd5fcc24f131",
   "metadata": {
    "tags": []
   },
   "outputs": [],
   "source": [
    "# from numpy array\n",
    "np_array = np.array(data)\n",
    "x_np = torch.tensor(np_array)"
   ]
  },
  {
   "cell_type": "code",
   "execution_count": 10,
   "id": "1a16517a-55ba-4d22-b4b6-d179b7b19c88",
   "metadata": {
    "tags": []
   },
   "outputs": [
    {
     "data": {
      "text/plain": [
       "tensor([[1, 2],\n",
       "        [3, 4]], dtype=torch.int32)"
      ]
     },
     "execution_count": 10,
     "metadata": {},
     "output_type": "execute_result"
    }
   ],
   "source": [
    "x_np"
   ]
  },
  {
   "cell_type": "code",
   "execution_count": 12,
   "id": "ea5e01a5-b1e0-4404-b0d9-f71782afcf1a",
   "metadata": {
    "tags": []
   },
   "outputs": [
    {
     "name": "stdout",
     "output_type": "stream",
     "text": [
      "Ones tensor: \n",
      " tensor([[1, 1],\n",
      "        [1, 1]]) \n",
      "\n"
     ]
    }
   ],
   "source": [
    "# new tensors retains the properties(shape, datatype) of the argument tensor, unless explicityly overridden\n",
    "\n",
    "x_ones = torch.ones_like(x_data) # retains the properties of x_data\n",
    "print(f\"Ones tensor: \\n {x_ones} \\n\")"
   ]
  },
  {
   "cell_type": "code",
   "execution_count": 15,
   "id": "c0c01f9b-7035-4b2d-b0d7-7955ba8e7e7f",
   "metadata": {
    "tags": []
   },
   "outputs": [
    {
     "name": "stdout",
     "output_type": "stream",
     "text": [
      "Random tensor: \n",
      " tensor([[0.3728, 0.1907],\n",
      "        [0.5369, 0.4060]]) \n",
      "\n"
     ]
    }
   ],
   "source": [
    "x_rand = torch.rand_like(x_data, dtype = torch.float) # overrides the datatype of x_data\n",
    "print(f\"Random tensor: \\n {x_rand} \\n\")"
   ]
  },
  {
   "cell_type": "code",
   "execution_count": 16,
   "id": "0d7447e5-b323-421f-a6a5-a4e367080dc5",
   "metadata": {
    "tags": []
   },
   "outputs": [
    {
     "data": {
      "text/plain": [
       "torch.float32"
      ]
     },
     "execution_count": 16,
     "metadata": {},
     "output_type": "execute_result"
    }
   ],
   "source": [
    "x_rand.dtype"
   ]
  },
  {
   "cell_type": "code",
   "execution_count": 18,
   "id": "c6bdb6d7-d8c3-45be-9a66-6ccfb9ee72ae",
   "metadata": {
    "tags": []
   },
   "outputs": [],
   "source": [
    "shape = (2,3,) # tuple of tensor dimension\n",
    "rand_tensor = torch.rand(shape)\n",
    "ones_tensor = torch.ones(shape)\n",
    "zeros_tensor = torch.zeros(shape)"
   ]
  },
  {
   "cell_type": "code",
   "execution_count": 19,
   "id": "166729e7-6dc8-447b-b848-77dd4f0386f1",
   "metadata": {
    "tags": []
   },
   "outputs": [
    {
     "name": "stdout",
     "output_type": "stream",
     "text": [
      "Random tensor: \n",
      " tensor([[0.9465, 0.8433, 0.5753],\n",
      "        [0.7130, 0.9898, 0.5536]]) \n",
      "\n",
      "Ones tensor: \n",
      " tensor([[1., 1., 1.],\n",
      "        [1., 1., 1.]]) \n",
      "\n",
      "Zeros tensor: \n",
      " tensor([[0., 0., 0.],\n",
      "        [0., 0., 0.]]) \n",
      "\n"
     ]
    }
   ],
   "source": [
    "print(f\"Random tensor: \\n {rand_tensor} \\n\")\n",
    "print(f\"Ones tensor: \\n {ones_tensor} \\n\")\n",
    "print(f\"Zeros tensor: \\n {zeros_tensor} \\n\")"
   ]
  },
  {
   "cell_type": "markdown",
   "id": "4127e802-57f8-470f-b13a-d78fe31bc51c",
   "metadata": {},
   "source": [
    "Attributes of a tensor"
   ]
  },
  {
   "cell_type": "code",
   "execution_count": 21,
   "id": "e47050ae-689d-400f-8648-2f641f148a35",
   "metadata": {
    "tags": []
   },
   "outputs": [
    {
     "name": "stdout",
     "output_type": "stream",
     "text": [
      "Shape of tensor: torch.Size([3, 4])\n",
      "Datatype of tensor: torch.float32\n",
      "Device of tensor is: cpu\n"
     ]
    }
   ],
   "source": [
    "tensor = torch.rand(3,4)\n",
    "\n",
    "print(f'Shape of tensor: {tensor.shape}')\n",
    "print(f'Datatype of tensor: {tensor.dtype}')\n",
    "print(f'Device of tensor is: {tensor.device}')"
   ]
  },
  {
   "cell_type": "markdown",
   "id": "1a3fc678-2bff-4caf-a6cc-9df05f393099",
   "metadata": {
    "tags": []
   },
   "source": [
    "Operations on Tensor"
   ]
  },
  {
   "cell_type": "code",
   "execution_count": 24,
   "id": "e3ce3370-3551-4ad8-99cc-14d4e2f477ec",
   "metadata": {
    "tags": []
   },
   "outputs": [],
   "source": [
    "# Standard numpy like indenxing and slicing"
   ]
  },
  {
   "cell_type": "code",
   "execution_count": 30,
   "id": "f5fe6d43-4b9f-4c05-afa1-f81ff12a5997",
   "metadata": {
    "tags": []
   },
   "outputs": [
    {
     "name": "stdout",
     "output_type": "stream",
     "text": [
      "First row: tensor([1., 1., 1., 1.])\n",
      "First column: tensor([1., 1., 1., 1.])\n",
      "Last column: tensor([1., 1., 1., 1.])\n",
      "tensor([[1., 1., 1., 0.],\n",
      "        [1., 1., 1., 0.],\n",
      "        [1., 1., 1., 0.],\n",
      "        [1., 1., 1., 0.]])\n"
     ]
    }
   ],
   "source": [
    "tensor = torch.ones(4,4)\n",
    "print(f'First row: {tensor[0]}')\n",
    "print(f'First column: {tensor[:,0]}')\n",
    "print(f'Last column: {tensor[...,-1]}')\n",
    "tensor[:,-1] = 0\n",
    "print(tensor)"
   ]
  },
  {
   "cell_type": "code",
   "execution_count": 31,
   "id": "6e1576e5-0eab-49b1-92fe-230a4020fe1f",
   "metadata": {
    "tags": []
   },
   "outputs": [],
   "source": [
    "# joining tensor using torch.cat to concatenate a sequence of tensor\n",
    "# along a given dimension"
   ]
  },
  {
   "cell_type": "code",
   "execution_count": 34,
   "id": "40630254-baa5-4b2b-ac91-1e0ef66aff9d",
   "metadata": {
    "tags": []
   },
   "outputs": [
    {
     "data": {
      "text/plain": [
       "tensor([[1., 1., 1., 0., 1., 1., 1., 0., 1., 1., 1., 0.],\n",
       "        [1., 1., 1., 0., 1., 1., 1., 0., 1., 1., 1., 0.],\n",
       "        [1., 1., 1., 0., 1., 1., 1., 0., 1., 1., 1., 0.],\n",
       "        [1., 1., 1., 0., 1., 1., 1., 0., 1., 1., 1., 0.]])"
      ]
     },
     "execution_count": 34,
     "metadata": {},
     "output_type": "execute_result"
    }
   ],
   "source": [
    "t1 = torch.cat([tensor, tensor, tensor], dim = 1)\n",
    "t1"
   ]
  },
  {
   "cell_type": "code",
   "execution_count": 35,
   "id": "ee450988-50a9-4571-bf65-ad8e0e107da9",
   "metadata": {
    "tags": []
   },
   "outputs": [],
   "source": [
    "# Arithmetic operatiosn"
   ]
  },
  {
   "cell_type": "code",
   "execution_count": 36,
   "id": "bf90a6fa-6ab3-499b-a9c3-c6c2d6bafd83",
   "metadata": {
    "tags": []
   },
   "outputs": [
    {
     "data": {
      "text/plain": [
       "tensor([[3., 3., 3., 3.],\n",
       "        [3., 3., 3., 3.],\n",
       "        [3., 3., 3., 3.],\n",
       "        [3., 3., 3., 3.]])"
      ]
     },
     "execution_count": 36,
     "metadata": {},
     "output_type": "execute_result"
    }
   ],
   "source": [
    "y1 = tensor @ tensor.T # T - transpose, @ - matrix multiplication\n",
    "y2 = tensor.matmul(tensor.T)\n",
    "\n",
    "y3 = torch.rand_like(y1)\n",
    "torch.matmul(tensor, tensor.T, out = y3)"
   ]
  },
  {
   "cell_type": "code",
   "execution_count": 38,
   "id": "9d4e9b8b-6ef6-47aa-98a3-b53afe0ef5ea",
   "metadata": {
    "tags": []
   },
   "outputs": [
    {
     "name": "stdout",
     "output_type": "stream",
     "text": [
      "tensor([[3., 3., 3., 3.],\n",
      "        [3., 3., 3., 3.],\n",
      "        [3., 3., 3., 3.],\n",
      "        [3., 3., 3., 3.]])\n",
      "tensor([[3., 3., 3., 3.],\n",
      "        [3., 3., 3., 3.],\n",
      "        [3., 3., 3., 3.],\n",
      "        [3., 3., 3., 3.]])\n"
     ]
    }
   ],
   "source": [
    "print(y1)\n",
    "print(y2)"
   ]
  },
  {
   "cell_type": "code",
   "execution_count": 42,
   "id": "bff57eaa-ebbe-4fdd-a697-9a01120990a7",
   "metadata": {
    "tags": []
   },
   "outputs": [
    {
     "data": {
      "text/plain": [
       "tensor([[1., 1., 1., 0.],\n",
       "        [1., 1., 1., 0.],\n",
       "        [1., 1., 1., 0.],\n",
       "        [1., 1., 1., 0.]])"
      ]
     },
     "execution_count": 42,
     "metadata": {},
     "output_type": "execute_result"
    }
   ],
   "source": [
    "z1 = tensor * tensor # element wise product\n",
    "z2 = tensor.mul(tensor)\n",
    "\n",
    "z3 = torch.rand_like(tensor)\n",
    "torch.mul(tensor, tensor, out = z3)"
   ]
  },
  {
   "cell_type": "code",
   "execution_count": 45,
   "id": "8e4393b6-688e-433f-89e9-3383d751aa4a",
   "metadata": {
    "tags": []
   },
   "outputs": [
    {
     "name": "stdout",
     "output_type": "stream",
     "text": [
      "12.0 <class 'float'>\n"
     ]
    }
   ],
   "source": [
    "# single element tensor\n",
    "\n",
    "agg = tensor.sum()\n",
    "agg_item = agg.item() # item() is used to convert the tensor to python numerical value\n",
    "print(agg_item, type(agg_item))"
   ]
  },
  {
   "cell_type": "code",
   "execution_count": 47,
   "id": "026b9c45-f9c3-4bd3-b6d1-6f4028bcba08",
   "metadata": {
    "tags": []
   },
   "outputs": [],
   "source": [
    "# In-place operation - Operations that store the result into the operand are \n",
    "# called in-place. They are denoted by a _ suffix. for example x.copy_(y), x.t_(), wil change x\n"
   ]
  },
  {
   "cell_type": "code",
   "execution_count": 48,
   "id": "83e36da7-8886-44d6-8808-79253aae7f22",
   "metadata": {
    "tags": []
   },
   "outputs": [
    {
     "name": "stdout",
     "output_type": "stream",
     "text": [
      "tensor([[1., 1., 1., 0.],\n",
      "        [1., 1., 1., 0.],\n",
      "        [1., 1., 1., 0.],\n",
      "        [1., 1., 1., 0.]]) \n",
      "\n",
      "tensor([[6., 6., 6., 5.],\n",
      "        [6., 6., 6., 5.],\n",
      "        [6., 6., 6., 5.],\n",
      "        [6., 6., 6., 5.]])\n"
     ]
    }
   ],
   "source": [
    "print(f'{tensor} \\n')\n",
    "tensor.add_(5)\n",
    "print(tensor)"
   ]
  },
  {
   "cell_type": "markdown",
   "id": "6b96d0a6-559f-411e-acb5-823f57dd997a",
   "metadata": {},
   "source": [
    "In-place operations save some memory, but can be problematic when computing derivatives because of an immediate loss of history. Hence, their use is discouraged."
   ]
  },
  {
   "cell_type": "markdown",
   "id": "ebb02511-89dc-4133-ac54-0dd3d9a159dc",
   "metadata": {},
   "source": [
    "Bridge with Numpy \n",
    "\n",
    "\n",
    "Tensor on the cpu and NumPy arrays can share their underlying memory location, changing one will change the other."
   ]
  },
  {
   "cell_type": "code",
   "execution_count": 50,
   "id": "f64cb57b-4e03-4a07-b8d1-2ecf07903e3a",
   "metadata": {
    "tags": []
   },
   "outputs": [
    {
     "name": "stdout",
     "output_type": "stream",
     "text": [
      "t: tensor([1., 1., 1., 1., 1.])\n",
      "n: [1. 1. 1. 1. 1.]\n"
     ]
    }
   ],
   "source": [
    "# tensor to NumPy array\n",
    "t = torch.ones(5)\n",
    "print(f't: {t}')\n",
    "n = t.numpy()\n",
    "print(f\"n: {n}\")"
   ]
  },
  {
   "cell_type": "code",
   "execution_count": 51,
   "id": "1bf5ede6-3176-47b9-bf9b-ddc2884859ca",
   "metadata": {
    "tags": []
   },
   "outputs": [
    {
     "name": "stdout",
     "output_type": "stream",
     "text": [
      "t: tensor([2., 2., 2., 2., 2.])\n",
      "n: [2. 2. 2. 2. 2.]\n"
     ]
    }
   ],
   "source": [
    "# a change in the tensor reflects in the Numpy array\n",
    "t.add_(1)\n",
    "print(f't: {t}')\n",
    "print(f\"n: {n}\")"
   ]
  },
  {
   "cell_type": "code",
   "execution_count": 53,
   "id": "3d37b41f-b664-4a03-9547-6a39f2f45762",
   "metadata": {
    "tags": []
   },
   "outputs": [],
   "source": [
    "# numpy array to tensor\n",
    "n = np.ones(5)\n",
    "t = torch.from_numpy(n)"
   ]
  },
  {
   "cell_type": "code",
   "execution_count": 55,
   "id": "866a04ab-9763-48f6-8562-abdc965918cf",
   "metadata": {
    "tags": []
   },
   "outputs": [
    {
     "name": "stdout",
     "output_type": "stream",
     "text": [
      "t: tensor([2., 2., 2., 2., 2.], dtype=torch.float64)\n",
      "n: [2. 2. 2. 2. 2.]\n"
     ]
    }
   ],
   "source": [
    "# change in the Numpy array reflects in tensor\n",
    "np.add(n, 1, out = n)\n",
    "print(f't: {t}')\n",
    "print(f\"n: {n}\")"
   ]
  },
  {
   "cell_type": "markdown",
   "id": "cbb7716c-f812-42b8-9967-e35dea820e54",
   "metadata": {},
   "source": [
    "## Datasets and DataLoader"
   ]
  },
  {
   "cell_type": "markdown",
   "id": "4aaff9fe-13c3-4449-a4cf-abc5471bc579",
   "metadata": {},
   "source": [
    "PyTorch provides two data primitives: torch.utils.data.DataLoader and torch.utils.data.Dataset that allow you to use pre-loaded datasets as well as your own data. Dataset stores the samples and their corresponding labels, and DataLoader wraps an iterable around the Dataset to enable easy access to the samples."
   ]
  },
  {
   "cell_type": "markdown",
   "id": "ff846f9b-8e14-4a50-9eec-b9ad48f5abec",
   "metadata": {},
   "source": [
    "We load the FashionMNIST Dataset with the following parameters:\n",
    "\n",
    "- root is the path where the train/test data is stored,\n",
    "- train specifies training or test dataset,\n",
    "- download=True downloads the data from the internet if it’s not available at root.\n",
    "- transform and target_transform specify the feature and label transformations"
   ]
  },
  {
   "cell_type": "code",
   "execution_count": 56,
   "id": "849c4803-1482-4625-b41e-53b0b16c006d",
   "metadata": {
    "tags": []
   },
   "outputs": [],
   "source": [
    "# libraries\n",
    "import torch\n",
    "from torch.utils.data import Dataset\n",
    "from torchvision import datasets\n",
    "from torchvision.transforms import ToTensor\n",
    "import matplotlib.pyplot as plt\n"
   ]
  },
  {
   "cell_type": "code",
   "execution_count": 59,
   "id": "2fcae246-feab-453b-b223-9f120dbf94d9",
   "metadata": {
    "tags": []
   },
   "outputs": [
    {
     "name": "stdout",
     "output_type": "stream",
     "text": [
      "Downloading http://fashion-mnist.s3-website.eu-central-1.amazonaws.com/train-images-idx3-ubyte.gz\n",
      "Downloading http://fashion-mnist.s3-website.eu-central-1.amazonaws.com/train-images-idx3-ubyte.gz to data\\FashionMNIST\\raw\\train-images-idx3-ubyte.gz\n"
     ]
    },
    {
     "name": "stderr",
     "output_type": "stream",
     "text": [
      "100%|██████████████████████████████████████████████████████████████████| 26421880/26421880 [02:38<00:00, 167082.48it/s]\n"
     ]
    },
    {
     "name": "stdout",
     "output_type": "stream",
     "text": [
      "Extracting data\\FashionMNIST\\raw\\train-images-idx3-ubyte.gz to data\\FashionMNIST\\raw\n",
      "\n",
      "Downloading http://fashion-mnist.s3-website.eu-central-1.amazonaws.com/train-labels-idx1-ubyte.gz\n",
      "Downloading http://fashion-mnist.s3-website.eu-central-1.amazonaws.com/train-labels-idx1-ubyte.gz to data\\FashionMNIST\\raw\\train-labels-idx1-ubyte.gz\n"
     ]
    },
    {
     "name": "stderr",
     "output_type": "stream",
     "text": [
      "100%|████████████████████████████████████████████████████████████████████████| 29515/29515 [00:00<00:00, 141380.01it/s]\n"
     ]
    },
    {
     "name": "stdout",
     "output_type": "stream",
     "text": [
      "Extracting data\\FashionMNIST\\raw\\train-labels-idx1-ubyte.gz to data\\FashionMNIST\\raw\n",
      "\n",
      "Downloading http://fashion-mnist.s3-website.eu-central-1.amazonaws.com/t10k-images-idx3-ubyte.gz\n",
      "Downloading http://fashion-mnist.s3-website.eu-central-1.amazonaws.com/t10k-images-idx3-ubyte.gz to data\\FashionMNIST\\raw\\t10k-images-idx3-ubyte.gz\n"
     ]
    },
    {
     "name": "stderr",
     "output_type": "stream",
     "text": [
      "100%|████████████████████████████████████████████████████████████████████| 4422102/4422102 [00:20<00:00, 217586.50it/s]\n"
     ]
    },
    {
     "name": "stdout",
     "output_type": "stream",
     "text": [
      "Extracting data\\FashionMNIST\\raw\\t10k-images-idx3-ubyte.gz to data\\FashionMNIST\\raw\n",
      "\n",
      "Downloading http://fashion-mnist.s3-website.eu-central-1.amazonaws.com/t10k-labels-idx1-ubyte.gz\n",
      "Downloading http://fashion-mnist.s3-website.eu-central-1.amazonaws.com/t10k-labels-idx1-ubyte.gz to data\\FashionMNIST\\raw\\t10k-labels-idx1-ubyte.gz\n"
     ]
    },
    {
     "name": "stderr",
     "output_type": "stream",
     "text": [
      "100%|█████████████████████████████████████████████████████████████████████████| 5148/5148 [00:00<00:00, 3573696.95it/s]"
     ]
    },
    {
     "name": "stdout",
     "output_type": "stream",
     "text": [
      "Extracting data\\FashionMNIST\\raw\\t10k-labels-idx1-ubyte.gz to data\\FashionMNIST\\raw\n",
      "\n"
     ]
    },
    {
     "name": "stderr",
     "output_type": "stream",
     "text": [
      "\n"
     ]
    }
   ],
   "source": [
    "training_data = datasets.FashionMNIST(\n",
    "    root = 'data',\n",
    "    train = True,\n",
    "    download = True,\n",
    "    transform = ToTensor()\n",
    ")\n",
    "\n",
    "test_data = datasets.FashionMNIST(\n",
    "    root = 'data',\n",
    "    train = False,\n",
    "    download = True,\n",
    "    transform = ToTensor()\n",
    ")\n"
   ]
  },
  {
   "cell_type": "code",
   "execution_count": null,
   "id": "811cb905-8999-4948-ae22-bb5b30c997ca",
   "metadata": {},
   "outputs": [],
   "source": [
    "Iterating and visualizing the data"
   ]
  },
  {
   "cell_type": "code",
   "execution_count": 69,
   "id": "e2d67ec6-61f8-4bb6-87cc-ac0061571d78",
   "metadata": {
    "tags": []
   },
   "outputs": [
    {
     "data": {
      "image/png": "[encoded data removed]",
      "text/plain": [
       "<Figure size 600x800 with 9 Axes>"
      ]
     },
     "metadata": {},
     "output_type": "display_data"
    }
   ],
   "source": [
    "labels_map = {\n",
    "    0: 'T-Shirt',\n",
    "    1: 'Trouser',\n",
    "    2: 'Pullover',\n",
    "    3: 'Dress',\n",
    "    4: 'Coat',\n",
    "    5: 'Sandal',\n",
    "    6: 'Shirt',\n",
    "    7: 'Sneaker',\n",
    "    8: 'Bag',\n",
    "    9: 'Ankle Boot'\n",
    "}\n",
    "\n",
    "figure = plt.figure(figsize = (6,8))\n",
    "cols, rows = 3,3\n",
    "for i in range(1, cols * rows + 1):\n",
    "    sample_idx = torch.randint(len(training_data), size = (1,)).item()\n",
    "    img, label = training_data[sample_idx]\n",
    "    figure.add_subplot(rows, cols, i)\n",
    "    plt.title(labels_map[label])\n",
    "    plt.axis('off')\n",
    "    plt.imshow(img.squeeze(), cmap = 'gray')\n",
    "    \n",
    "plt.show()\n",
    "    \n",
    "    "
   ]
  },
  {
   "cell_type": "markdown",
   "id": "9323a7f8-f7c9-4d32-adfc-032675741e9f",
   "metadata": {},
   "source": [
    "Preparing your data for training with DataLoaders\n",
    "\n",
    "The Dataset retrieves our dataset’s features and labels one sample at a time. While training a model, we typically want to pass samples in “minibatches”, reshuffle the data at every epoch to reduce model overfitting, and use Python’s multiprocessing to speed up data retrieval.\n",
    "\n",
    "DataLoader is an iterable that abstracts this complexity for us in an easy API."
   ]
  },
  {
   "cell_type": "code",
   "execution_count": 74,
   "id": "99e2f1c5-f5a9-4250-964f-3860a178cdc1",
   "metadata": {
    "tags": []
   },
   "outputs": [],
   "source": [
    "from torch.utils.data import DataLoader\n",
    "train_dataloader = DataLoader(training_data, batch_size = 64, shuffle = True)\n",
    "test_dataloader = DataLoader(test_data, batch_size = 64, shuffle = True)"
   ]
  },
  {
   "cell_type": "markdown",
   "id": "6b758a74-9cd8-434c-b717-c09421b6dc57",
   "metadata": {},
   "source": [
    "Iterate through the DataLoader\n",
    "\n",
    "We have loaded that dataset into the DataLoader and can iterate through the dataset as needed. Each iteration below returns a batch of train_features and train_labels (containing batch_size=64 features and labels respectively). Because we specified shuffle=True, after we iterate over all batches the data is shuffled (for finer-grained control over the data loading order, take a look at Samplers)."
   ]
  },
  {
   "cell_type": "code",
   "execution_count": 78,
   "id": "033dc5fd-d3b2-4c2d-b5ac-807715285df0",
   "metadata": {
    "tags": []
   },
   "outputs": [
    {
     "name": "stdout",
     "output_type": "stream",
     "text": [
      "Features batch shape: torch.Size([64, 1, 28, 28])\n",
      "Lables batch shape: torch.Size([64])\n"
     ]
    },
    {
     "data": {
      "image/png": "[encoded data removed]",
      "text/plain": [
       "<Figure size 640x480 with 1 Axes>"
      ]
     },
     "metadata": {},
     "output_type": "display_data"
    },
    {
     "name": "stdout",
     "output_type": "stream",
     "text": [
      "Lable: 8\n"
     ]
    }
   ],
   "source": [
    "# display the image and label.\n",
    "train_features, train_label = next(iter(train_dataloader))\n",
    "print(f'Features batch shape: {train_features.size()}')\n",
    "print(f'Lables batch shape: {train_label.size()}')\n",
    "img = train_features[0].squeeze()\n",
    "label = train_label[0]\n",
    "plt.imshow(img, cmap = 'gray')\n",
    "plt.show()\n",
    "print(f'Lable: {label}')"
   ]
  },
  {
   "cell_type": "markdown",
   "id": "0881b1d0-2993-4cd8-a392-ff447b6263d9",
   "metadata": {},
   "source": [
    "Transforms\n",
    "\n",
    "Data does not always come in its final processed form that is required for training machine learning algorithms. We use transforms to perform some manipulation of the data and make it suitable for training.\n",
    "\n",
    "All TorchVision datasets have two parameters -transform to modify the features and target_transform to modify the labels - that accept callables containing the transformation logic. The torchvision.transforms module offers several commonly-used transforms out of the box."
   ]
  },
  {
   "cell_type": "code",
   "execution_count": 97,
   "id": "1b665f43-0dc1-4ba8-916c-427f19930792",
   "metadata": {
    "tags": []
   },
   "outputs": [],
   "source": [
    "from torchvision.transforms import ToTensor, Lambda\n",
    "\n",
    "ds = datasets.FashionMNIST(\n",
    "    root = 'data',\n",
    "    train = True,\n",
    "    download = False,\n",
    "    transform = ToTensor(),\n",
    "    target_transform = Lambda(lambda y : torch.zeros(10, dtype = torch.float).scatter_(0,\n",
    "                                                                                      torch.tensor(y), value = 1))\n",
    ")"
   ]
  },
  {
   "cell_type": "code",
   "execution_count": 98,
   "id": "8d5a7cce-7020-4dae-90b9-e1a190d0ce46",
   "metadata": {
    "tags": []
   },
   "outputs": [
    {
     "data": {
      "text/plain": [
       "Dataset FashionMNIST\n",
       "    Number of datapoints: 60000\n",
       "    Root location: data\n",
       "    Split: Train\n",
       "    StandardTransform\n",
       "Transform: ToTensor()\n",
       "Target transform: Lambda()"
      ]
     },
     "execution_count": 98,
     "metadata": {},
     "output_type": "execute_result"
    }
   ],
   "source": [
    "ds"
   ]
  },
  {
   "cell_type": "markdown",
   "id": "cd13737d-ba18-451c-8f6d-5addbe28a654",
   "metadata": {},
   "source": [
    "## BUILD THE NEURAL NETWORK\n",
    "Neural networks comprise of layers/modules that perform operations on data. The torch.nn namespace provides all the building blocks you need to build your own neural network. Every module in PyTorch subclasses the nn.Module. A neural network is a module itself that consists of other modules (layers). This nested structure allows for building and managing complex architectures easily."
   ]
  },
  {
   "cell_type": "code",
   "execution_count": 99,
   "id": "c33d2233-0f34-4fcd-8e01-4000eb1a8b84",
   "metadata": {
    "tags": []
   },
   "outputs": [],
   "source": [
    "# libraries\n",
    "import os\n",
    "import torch\n",
    "from torch import nn\n",
    "from torch.utils.data import DataLoader\n",
    "from torchvision import datasets, transforms"
   ]
  },
  {
   "cell_type": "code",
   "execution_count": 100,
   "id": "5ddbf686-d52b-48c9-9d40-42dcfcd90bb7",
   "metadata": {
    "tags": []
   },
   "outputs": [
    {
     "name": "stdout",
     "output_type": "stream",
     "text": [
      "Using cpu device\n"
     ]
    }
   ],
   "source": [
    "# get device for training\n",
    "\n",
    "device  = (\n",
    "    'cuda'\n",
    "    if torch.cuda.is_available()\n",
    "    else 'mps'\n",
    "    if torch.backends.mps.is_available()\n",
    "    else \"cpu\"\n",
    ")\n",
    "\n",
    "print(f'Using {device} device')"
   ]
  },
  {
   "cell_type": "markdown",
   "id": "4598841b-4622-4a70-a7df-b2f5f154976b",
   "metadata": {},
   "source": [
    "Define the Class\n",
    "\n",
    "We define our neural network by subclassing nn.Module, and initializer the neural network layers in __init__. Every nn.Module subclass implements the operation on input data in the forward method."
   ]
  },
  {
   "cell_type": "code",
   "execution_count": 106,
   "id": "b6f1827c-132f-4680-a426-fc98e4b793be",
   "metadata": {
    "tags": []
   },
   "outputs": [],
   "source": [
    "class NeuralNetwork(nn.Module):\n",
    "    def __init__(self):\n",
    "        super().__init__()\n",
    "        self.flatten = nn.Flatten()\n",
    "        self.linear_relu_stack = nn.Sequential(\n",
    "            nn.Linear(28*28, 512),\n",
    "            nn.ReLU(),\n",
    "            nn.Linear(512,512),\n",
    "            nn.ReLU(),\n",
    "            nn.Linear(512,10),\n",
    "        )\n",
    "        \n",
    "    def forward(self,x):\n",
    "        x = self.flatten(x)\n",
    "        logits = self.linear_relu_stack(x)\n",
    "        return logits"
   ]
  },
  {
   "cell_type": "code",
   "execution_count": 107,
   "id": "58cf8fd9-1de1-4766-abd0-64af53418eca",
   "metadata": {
    "tags": []
   },
   "outputs": [
    {
     "name": "stdout",
     "output_type": "stream",
     "text": [
      "NeuralNetwork(\n",
      "  (flatten): Flatten(start_dim=1, end_dim=-1)\n",
      "  (linear_relu_stack): Sequential(\n",
      "    (0): Linear(in_features=784, out_features=512, bias=True)\n",
      "    (1): ReLU()\n",
      "    (2): Linear(in_features=512, out_features=512, bias=True)\n",
      "    (3): ReLU()\n",
      "    (4): Linear(in_features=512, out_features=10, bias=True)\n",
      "  )\n",
      ")\n"
     ]
    }
   ],
   "source": [
    "# we create a instance of NeuralNetwok, and move it to the device, and print the structure\n",
    "\n",
    "model = NeuralNetwork().to(device)\n",
    "print(model)"
   ]
  },
  {
   "cell_type": "markdown",
   "id": "2356cc9d-8445-4922-b91c-712545ef87cd",
   "metadata": {
    "tags": []
   },
   "source": [
    "To use the model, we pass it the input data. This executes the model’s forward, along with some background operations. Do not call model.forward() directly\n",
    "\n",
    "Calling the model on the input returns a 2-dimensional tensor with dim=0 corresponding to each output of 10 raw predicted values for each class, and dim=1 corresponding to the individual values of each output. We get the prediction probabilities by passing it through an instance of the nn.Softmax module."
   ]
  },
  {
   "cell_type": "code",
   "execution_count": 110,
   "id": "f820d908-8bca-4d83-9ef9-3ccea788ba3b",
   "metadata": {
    "tags": []
   },
   "outputs": [
    {
     "name": "stdout",
     "output_type": "stream",
     "text": [
      "Predicted class: tensor([8])\n"
     ]
    }
   ],
   "source": [
    "X = torch.rand(1,28,28, device = device)\n",
    "logits = model(X)\n",
    "pred_probab = nn.Softmax(dim=1)(logits)\n",
    "y_pred = pred_probab.argmax(1)\n",
    "print(f'Predicted class: {y_pred}')"
   ]
  },
  {
   "cell_type": "markdown",
   "id": "5e5238f9-f765-49a4-9541-22307e02bac1",
   "metadata": {},
   "source": [
    "Model Layer"
   ]
  },
  {
   "cell_type": "code",
   "execution_count": 117,
   "id": "0f2502b4-c2ae-499a-94e0-e6df1705e7fd",
   "metadata": {
    "tags": []
   },
   "outputs": [
    {
     "name": "stdout",
     "output_type": "stream",
     "text": [
      "torch.Size([3, 28, 28])\n"
     ]
    }
   ],
   "source": [
    "input_image = torch.rand(3,28, 28)\n",
    "print(input_image.size())"
   ]
  },
  {
   "cell_type": "code",
   "execution_count": 118,
   "id": "1152e294-b16e-43e0-8dd9-b640f6451878",
   "metadata": {
    "tags": []
   },
   "outputs": [
    {
     "name": "stdout",
     "output_type": "stream",
     "text": [
      "torch.Size([3, 784])\n"
     ]
    }
   ],
   "source": [
    "# we iniitalize the nn.Flatten layer to convert each 2D 28*28 image into a \n",
    "# contiguous array 784 pixel value (the minibatch dimension(at dim = 0) is mainitained)\n",
    "\n",
    "flatten = nn.Flatten()\n",
    "flat_image = flatten(input_image)\n",
    "print(flat_image.size())"
   ]
  },
  {
   "cell_type": "code",
   "execution_count": 122,
   "id": "b365b417-142a-4867-aa82-f9380e0c2ad4",
   "metadata": {
    "tags": []
   },
   "outputs": [
    {
     "name": "stdout",
     "output_type": "stream",
     "text": [
      "torch.Size([3, 20])\n"
     ]
    }
   ],
   "source": [
    "# The linear layer is a module that applies a linear transformation on the input \n",
    "# using its stored weights and biases\n",
    "\n",
    "layer1 = nn.Linear(in_features = 28*28, out_features = 20)\n",
    "hidden1 = layer1(flat_image)\n",
    "print(hidden1.size())"
   ]
  },
  {
   "cell_type": "code",
   "execution_count": 123,
   "id": "30e7f5bc-6150-4044-995a-3f7ef700c5d1",
   "metadata": {
    "tags": []
   },
   "outputs": [
    {
     "name": "stdout",
     "output_type": "stream",
     "text": [
      "Before ReLU : tensor([[-0.6946, -0.1054,  0.3294,  0.2081, -0.1172, -0.1303,  0.2793,  0.1106,\n",
      "          0.1748, -0.2488,  0.1634,  0.1532, -0.1558,  0.1037,  0.3459,  0.0150,\n",
      "          0.0238, -0.3269, -0.2303,  0.1686],\n",
      "        [-0.3919,  0.2088,  0.0031,  0.0606, -0.0564,  0.0970,  0.2456,  0.1495,\n",
      "          0.0789, -0.4110,  0.4873, -0.3229, -0.4636,  0.1440,  0.3136,  0.0349,\n",
      "          0.1869,  0.0795, -0.0622,  0.1761],\n",
      "        [-0.6531, -0.1652,  0.1057, -0.0121,  0.0628, -0.1260,  0.1707, -0.4168,\n",
      "          0.3369, -0.4082, -0.0405, -0.1800, -0.2520, -0.2121,  0.3532,  0.2078,\n",
      "          0.1726, -0.0210,  0.1294,  0.3164]], grad_fn=<AddmmBackward0>) \n",
      "\n",
      "\n",
      "After ReLU: tensor([[0.0000, 0.0000, 0.3294, 0.2081, 0.0000, 0.0000, 0.2793, 0.1106, 0.1748,\n",
      "         0.0000, 0.1634, 0.1532, 0.0000, 0.1037, 0.3459, 0.0150, 0.0238, 0.0000,\n",
      "         0.0000, 0.1686],\n",
      "        [0.0000, 0.2088, 0.0031, 0.0606, 0.0000, 0.0970, 0.2456, 0.1495, 0.0789,\n",
      "         0.0000, 0.4873, 0.0000, 0.0000, 0.1440, 0.3136, 0.0349, 0.1869, 0.0795,\n",
      "         0.0000, 0.1761],\n",
      "        [0.0000, 0.0000, 0.1057, 0.0000, 0.0628, 0.0000, 0.1707, 0.0000, 0.3369,\n",
      "         0.0000, 0.0000, 0.0000, 0.0000, 0.0000, 0.3532, 0.2078, 0.1726, 0.0000,\n",
      "         0.1294, 0.3164]], grad_fn=<ReluBackward0>)\n"
     ]
    }
   ],
   "source": [
    "# Non-linear activations are what create the complex mappings between the model’s inputs and outputs. They are applied after\n",
    "# linear transformations to introduce nonlinearity, helping neural networks learn a wide variety of phenomena.\n",
    "\n",
    "print(f\"Before ReLU : {hidden1} \\n\\n\")\n",
    "hidden1 = nn.ReLU()(hidden1)\n",
    "print(f\"After ReLU: {hidden1}\")"
   ]
  },
  {
   "cell_type": "markdown",
   "id": "9447051a-90fa-48d7-8e14-63bf1e7f7047",
   "metadata": {},
   "source": [
    "nn.Sequential is an ordered container of modules. The data is passed through all the modules in the same order as defined. You can use sequential containers to put together a quick network like seq_modules."
   ]
  },
  {
   "cell_type": "code",
   "execution_count": 124,
   "id": "791cca5a-ec6c-4e0d-8d0d-d8cb1c52b5c2",
   "metadata": {
    "tags": []
   },
   "outputs": [],
   "source": [
    "seq_modules = nn.Sequential(\n",
    "    flatten,\n",
    "    layer1,\n",
    "    nn.ReLU(),\n",
    "    nn.Linear(20,10)\n",
    ")\n",
    "\n",
    "input_image = torch.rand(3,28,28)\n",
    "logits = seq_modules(input_image)"
   ]
  },
  {
   "cell_type": "markdown",
   "id": "3429954b-1914-4697-9c0f-3a0060d6bb80",
   "metadata": {
    "tags": []
   },
   "source": [
    "nn.Softmax\n",
    "\n",
    "The last linear layer of the neural network returns logits - raw values in [-infty, infty] - which are passed to the nn.Softmax module. The logits are scaled to values [0, 1] representing the model’s predicted probabilities for each class. dim parameter indicates the dimension along which the values must sum to 1."
   ]
  },
  {
   "cell_type": "code",
   "execution_count": 126,
   "id": "ba21bdfe-5696-41ec-9a93-07154c1f14dd",
   "metadata": {
    "tags": []
   },
   "outputs": [],
   "source": [
    "softmax = nn.Softmax(dim = 1)\n",
    "pred_probab = softmax(logits)\n"
   ]
  },
  {
   "cell_type": "markdown",
   "id": "31cdf598-0c1c-45c2-983a-27dd078ba307",
   "metadata": {},
   "source": [
    "Model Parameters\n",
    "\n",
    "Many layers inside a neural network are parameterized, i.e. have associated weights and biases that are optimized during training. Subclassing nn.Module automatically tracks all fields defined inside your model object, and makes all parameters accessible using your model’s parameters() or named_parameters() methods.\n",
    "\n",
    "In this example, we iterate over each parameter, and print its size and a preview of its values."
   ]
  },
  {
   "cell_type": "code",
   "execution_count": 128,
   "id": "ecd1aa98-b1e9-4c44-bc0b-64ecc9825245",
   "metadata": {
    "tags": []
   },
   "outputs": [
    {
     "name": "stdout",
     "output_type": "stream",
     "text": [
      "Model sturcture: NeuralNetwork(\n",
      "  (flatten): Flatten(start_dim=1, end_dim=-1)\n",
      "  (linear_relu_stack): Sequential(\n",
      "    (0): Linear(in_features=784, out_features=512, bias=True)\n",
      "    (1): ReLU()\n",
      "    (2): Linear(in_features=512, out_features=512, bias=True)\n",
      "    (3): ReLU()\n",
      "    (4): Linear(in_features=512, out_features=10, bias=True)\n",
      "  )\n",
      ") \n",
      "\n",
      "\n",
      "Layer : linear_relu_stack.0.weight | Size : torch.Size([512, 784]) | Values : tensor([[-0.0265, -0.0262, -0.0304,  ...,  0.0178,  0.0197,  0.0027],\n",
      "        [-0.0121, -0.0202,  0.0329,  ...,  0.0211, -0.0099,  0.0172]],\n",
      "       grad_fn=<SliceBackward0>) \n",
      "\n",
      "Layer : linear_relu_stack.0.bias | Size : torch.Size([512]) | Values : tensor([-0.0019,  0.0059], grad_fn=<SliceBackward0>) \n",
      "\n",
      "Layer : linear_relu_stack.2.weight | Size : torch.Size([512, 512]) | Values : tensor([[-0.0365,  0.0103,  0.0043,  ...,  0.0131,  0.0309,  0.0361],\n",
      "        [ 0.0410, -0.0206, -0.0088,  ...,  0.0198,  0.0356,  0.0317]],\n",
      "       grad_fn=<SliceBackward0>) \n",
      "\n",
      "Layer : linear_relu_stack.2.bias | Size : torch.Size([512]) | Values : tensor([ 0.0183, -0.0042], grad_fn=<SliceBackward0>) \n",
      "\n",
      "Layer : linear_relu_stack.4.weight | Size : torch.Size([10, 512]) | Values : tensor([[ 0.0193, -0.0097,  0.0266,  ...,  0.0151,  0.0192,  0.0052],\n",
      "        [-0.0005, -0.0325,  0.0068,  ..., -0.0396, -0.0423,  0.0436]],\n",
      "       grad_fn=<SliceBackward0>) \n",
      "\n",
      "Layer : linear_relu_stack.4.bias | Size : torch.Size([10]) | Values : tensor([ 0.0358, -0.0123], grad_fn=<SliceBackward0>) \n",
      "\n"
     ]
    }
   ],
   "source": [
    "print(f\"Model sturcture: {model} \\n\\n\")\n",
    "\n",
    "for name, param in model.named_parameters():\n",
    "    print(f\"Layer : {name} | Size : {param.size()} | Values : {param[:2]} \\n\")"
   ]
  },
  {
   "cell_type": "markdown",
   "id": "d567a176-489e-490e-92e3-66cea76dad16",
   "metadata": {},
   "source": [
    "## AUTOMATIC DIFFERENTIATION WITH TORCH.AUTOGRAD\n",
    "When training neural networks, the most frequently used algorithm is back propagation. In this algorithm, parameters (model weights) are adjusted according to the gradient of the loss function with respect to the given parameter.\n",
    "\n",
    "To compute those gradients, PyTorch has a built-in differentiation engine called torch.autograd. It supports automatic computation of gradient for any computational graph.\n",
    "\n",
    "Consider the simplest one-layer neural network, with input x, parameters w and b, and some loss function. It can be defined in PyTorch in the following manner:"
   ]
  },
  {
   "cell_type": "code",
   "execution_count": 138,
   "id": "ca93de9d-7290-465b-840a-b676e46f9173",
   "metadata": {
    "tags": []
   },
   "outputs": [
    {
     "data": {
      "text/plain": [
       "tensor(2.7033, grad_fn=<BinaryCrossEntropyWithLogitsBackward0>)"
      ]
     },
     "execution_count": 138,
     "metadata": {},
     "output_type": "execute_result"
    }
   ],
   "source": [
    "import torch\n",
    "x = torch.ones(5)\n",
    "y = torch.zeros(3)\n",
    "w = torch.randn(5,3, requires_grad = True)\n",
    "b = torch.randn(3, requires_grad = True)\n",
    "z = torch.matmul(x,w) + b\n",
    "loss = torch.nn.functional.binary_cross_entropy_with_logits(z,y)\n",
    "loss"
   ]
  },
  {
   "attachments": {
    "25a02857-9380-4e49-818c-0e683de5bbac.png": {
     "image/png": "[encoded data removed]"
    }
   },
   "cell_type": "markdown",
   "id": "97db4b77-f6b8-4326-8c2b-53970e25e32b",
   "metadata": {},
   "source": [
    "![image.png](attachment:25a02857-9380-4e49-818c-0e683de5bbac.png)"
   ]
  },
  {
   "cell_type": "code",
   "execution_count": 139,
   "id": "4c08dacc-2395-439d-be49-1ffe7e8f1419",
   "metadata": {
    "tags": []
   },
   "outputs": [
    {
     "name": "stdout",
     "output_type": "stream",
     "text": [
      "Gradient function for z = <AddBackward0 object at 0x00000178647FE920>\n",
      "Gradient function for loss = <BinaryCrossEntropyWithLogitsBackward0 object at 0x00000178647FEAD0>\n"
     ]
    }
   ],
   "source": [
    "print(f\"Gradient function for z = {z.grad_fn}\")\n",
    "print(f\"Gradient function for loss = {loss.grad_fn}\")"
   ]
  },
  {
   "cell_type": "markdown",
   "id": "fb2bae6b-6e0a-4a72-a44c-fcdaee537b95",
   "metadata": {},
   "source": [
    "Computing Gradients\n",
    "\n",
    "To optimize weights of parameters in the neural network, we need to compute the derivatives of our loss function with respect to parameters, namely, we need ∂loss/∂w and ∂loss/∂b under some fixed values of x and y. To compute those derivatives, we call loss.backward(), and then retrieve the values from w.grad and b.grad:"
   ]
  },
  {
   "cell_type": "code",
   "execution_count": 140,
   "id": "ca0946d3-9d98-4094-bfb1-4636272e7dde",
   "metadata": {
    "tags": []
   },
   "outputs": [
    {
     "name": "stdout",
     "output_type": "stream",
     "text": [
      "tensor([[0.3207, 0.2991, 0.3077],\n",
      "        [0.3207, 0.2991, 0.3077],\n",
      "        [0.3207, 0.2991, 0.3077],\n",
      "        [0.3207, 0.2991, 0.3077],\n",
      "        [0.3207, 0.2991, 0.3077]])\n",
      "tensor([0.3207, 0.2991, 0.3077])\n"
     ]
    }
   ],
   "source": [
    "loss.backward()\n",
    "print(w.grad)\n",
    "print(b.grad)"
   ]
  },
  {
   "cell_type": "markdown",
   "id": "e9accc55-cc9c-44ce-935b-1ae76d34e29d",
   "metadata": {},
   "source": [
    "Tensor Gradients and Jocobian Products"
   ]
  },
  {
   "cell_type": "code",
   "execution_count": 145,
   "id": "bcad2243-fb6d-4013-95a8-ef6c4c13f53d",
   "metadata": {
    "tags": []
   },
   "outputs": [
    {
     "name": "stdout",
     "output_type": "stream",
     "text": [
      "First call \n",
      " tensor([[4., 2., 2., 2., 2.],\n",
      "        [2., 4., 2., 2., 2.],\n",
      "        [2., 2., 4., 2., 2.],\n",
      "        [2., 2., 2., 4., 2.]])\n",
      "Second call \n",
      " tensor([[8., 4., 4., 4., 4.],\n",
      "        [4., 8., 4., 4., 4.],\n",
      "        [4., 4., 8., 4., 4.],\n",
      "        [4., 4., 4., 8., 4.]])\n",
      "\n",
      "Call after zeroing gradients \n",
      " tensor([[4., 2., 2., 2., 2.],\n",
      "        [2., 4., 2., 2., 2.],\n",
      "        [2., 2., 4., 2., 2.],\n",
      "        [2., 2., 2., 4., 2.]])\n"
     ]
    }
   ],
   "source": [
    "inp = torch.eye(4,5, requires_grad = True)\n",
    "out = (inp + 1).pow(2).t()\n",
    "out.backward(torch.ones_like(out), retain_graph = True)\n",
    "print(f'First call \\n {inp.grad}')\n",
    "out.backward(torch.ones_like(out), retain_graph = True)\n",
    "print(f'Second call \\n {inp.grad}')\n",
    "inp.grad.zero_()\n",
    "out.backward(torch.ones_like(out), retain_graph = True)\n",
    "print(f'\\nCall after zeroing gradients \\n {inp.grad}')"
   ]
  },
  {
   "cell_type": "markdown",
   "id": "d218331a-4f9c-4281-8fec-757c062f4864",
   "metadata": {},
   "source": [
    " when we call backward for the second time with the same argument, the value of the gradient is different. This happens because when doing backward propagation, PyTorch accumulates the gradients, i.e. the value of computed gradients is added to the grad property of all leaf nodes of computational graph. If you want to compute the proper gradients, you need to zero out the grad property before. In real-life training an optimizer helps us to do this."
   ]
  },
  {
   "cell_type": "markdown",
   "id": "d7adb3c7-225c-4a7a-aa6b-85c7959ccb1d",
   "metadata": {},
   "source": [
    "## Optimizing Model Parameters"
   ]
  },
  {
   "cell_type": "code",
   "execution_count": 147,
   "id": "c6cbd5c3-8b14-4a1a-8dc0-bcddfde633a7",
   "metadata": {
    "tags": []
   },
   "outputs": [],
   "source": [
    "# hyper parameter \n",
    "learning_rate = 1e-3\n",
    "batch_size = 64\n",
    "epochs = 5\n"
   ]
  },
  {
   "cell_type": "code",
   "execution_count": 150,
   "id": "af9a3523-f89f-4d4f-9e0a-7e08a39a4144",
   "metadata": {
    "tags": []
   },
   "outputs": [],
   "source": [
    "# Loss function\n",
    "loss_fn = nn.CrossEntropyLoss()\n",
    "# optimizer\n",
    "optimizer = torch.optim.SGD(model.parameters(), lr = learning_rate)"
   ]
  },
  {
   "cell_type": "code",
   "execution_count": 151,
   "id": "346563ec-157d-43c1-ba8c-2266f1389a79",
   "metadata": {
    "tags": []
   },
   "outputs": [
    {
     "data": {
      "text/plain": [
       "SGD (\n",
       "Parameter Group 0\n",
       "    dampening: 0\n",
       "    differentiable: False\n",
       "    foreach: None\n",
       "    lr: 0.001\n",
       "    maximize: False\n",
       "    momentum: 0\n",
       "    nesterov: False\n",
       "    weight_decay: 0\n",
       ")"
      ]
     },
     "execution_count": 151,
     "metadata": {},
     "output_type": "execute_result"
    }
   ],
   "source": [
    "optimizer"
   ]
  },
  {
   "cell_type": "code",
   "execution_count": 162,
   "id": "2c6726af-abcb-4892-bd84-b554f3333361",
   "metadata": {
    "tags": []
   },
   "outputs": [],
   "source": [
    "def train_loop(dataloader, model, loss_fn, optimizer):\n",
    "    size = len(dataloader.dataset)\n",
    "    for batch, (X,y) in enumerate(dataloader):\n",
    "        # compute prediction and loss\n",
    "        pred = model(X)\n",
    "        loss = loss_fn(pred, y)\n",
    "        \n",
    "        # Backpropagation\n",
    "        optimizer.zero_grad()\n",
    "        loss.backward()\n",
    "        optimizer.step()\n",
    "        \n",
    "        if batch %100 == 0:\n",
    "            loss, current = loss.item(), (batch + 1) * len(x)\n",
    "            print(f\"loss: {loss:>7f}  [{current:>5d}/{size:>5d}]\")\n",
    "            \n",
    "def test_loop(dataloader, model, loss_fn):\n",
    "    size = len(dataloader.dataset)\n",
    "    num_batches = len(dataloader)\n",
    "    test_loss, correct = 0, 0\n",
    "    \n",
    "    with torch.no_grad():\n",
    "        for X,y in dataloader:\n",
    "            pred = model(X)\n",
    "            test_loss += loss_fn(pred, y).item()\n",
    "            correct += (pred.argmax(1) == y).type(torch.float).sum().item()\n",
    "            \n",
    "    test_loss /= num_batches\n",
    "    correct /= size\n",
    "    print(f'Test Error: \\n Accuracy : {(100 * correct):>0.1f}%, Avg loss: {test_loss:>8f} \\n')"
   ]
  },
  {
   "cell_type": "code",
   "execution_count": 163,
   "id": "0122250b-974d-4243-ba60-e600cc4484ba",
   "metadata": {
    "tags": []
   },
   "outputs": [
    {
     "name": "stdout",
     "output_type": "stream",
     "text": [
      "Epoch 1 \n",
      " ---------------\n",
      "loss: 1.611275  [    5/60000]\n",
      "loss: 1.448479  [  505/60000]\n",
      "loss: 1.386432  [ 1005/60000]\n",
      "loss: 1.421806  [ 1505/60000]\n",
      "loss: 1.353652  [ 2005/60000]\n",
      "loss: 1.408675  [ 2505/60000]\n",
      "loss: 1.356298  [ 3005/60000]\n",
      "loss: 1.304701  [ 3505/60000]\n",
      "loss: 1.172245  [ 4005/60000]\n",
      "loss: 1.364748  [ 4505/60000]\n",
      "Test Error: \n",
      " Accuracy : 63.8%, Avg loss: 1.281561 \n",
      "\n",
      "Epoch 2 \n",
      " ---------------\n",
      "loss: 1.429335  [    5/60000]\n",
      "loss: 1.225221  [  505/60000]\n",
      "loss: 1.136784  [ 1005/60000]\n",
      "loss: 1.199352  [ 1505/60000]\n",
      "loss: 1.320439  [ 2005/60000]\n",
      "loss: 1.193167  [ 2505/60000]\n",
      "loss: 1.209199  [ 3005/60000]\n",
      "loss: 1.247606  [ 3505/60000]\n",
      "loss: 1.069722  [ 4005/60000]\n",
      "loss: 1.108620  [ 4505/60000]\n",
      "Test Error: \n",
      " Accuracy : 64.9%, Avg loss: 1.103605 \n",
      "\n",
      "Epoch 3 \n",
      " ---------------\n",
      "loss: 1.157090  [    5/60000]\n",
      "loss: 1.091165  [  505/60000]\n",
      "loss: 1.037672  [ 1005/60000]\n",
      "loss: 1.081452  [ 1505/60000]\n",
      "loss: 0.879397  [ 2005/60000]\n",
      "loss: 1.029966  [ 2505/60000]\n",
      "loss: 0.967707  [ 3005/60000]\n",
      "loss: 0.954152  [ 3505/60000]\n",
      "loss: 0.945265  [ 4005/60000]\n",
      "loss: 1.023272  [ 4505/60000]\n",
      "Test Error: \n",
      " Accuracy : 66.0%, Avg loss: 0.989680 \n",
      "\n",
      "Epoch 4 \n",
      " ---------------\n",
      "loss: 0.914715  [    5/60000]\n",
      "loss: 0.983018  [  505/60000]\n",
      "loss: 0.983173  [ 1005/60000]\n",
      "loss: 0.957999  [ 1505/60000]\n",
      "loss: 0.855535  [ 2005/60000]\n",
      "loss: 0.823674  [ 2505/60000]\n",
      "loss: 0.843044  [ 3005/60000]\n",
      "loss: 1.092635  [ 3505/60000]\n",
      "loss: 0.765888  [ 4005/60000]\n",
      "loss: 0.853804  [ 4505/60000]\n",
      "Test Error: \n",
      " Accuracy : 66.8%, Avg loss: 0.913558 \n",
      "\n",
      "Epoch 5 \n",
      " ---------------\n",
      "loss: 0.870419  [    5/60000]\n",
      "loss: 0.938836  [  505/60000]\n",
      "loss: 0.757287  [ 1005/60000]\n",
      "loss: 0.876715  [ 1505/60000]\n",
      "loss: 0.819283  [ 2005/60000]\n",
      "loss: 0.944779  [ 2505/60000]\n",
      "loss: 0.781020  [ 3005/60000]\n",
      "loss: 1.084931  [ 3505/60000]\n",
      "loss: 0.933796  [ 4005/60000]\n",
      "loss: 0.887370  [ 4505/60000]\n",
      "Test Error: \n",
      " Accuracy : 68.5%, Avg loss: 0.858777 \n",
      "\n",
      "Done!\n"
     ]
    }
   ],
   "source": [
    "for t in range(epochs):\n",
    "    print(f\"Epoch {t+1} \\n ---------------\")\n",
    "    train_loop(train_dataloader, model, loss_fn,optimizer)\n",
    "    test_loop(test_dataloader, model, loss_fn)\n",
    "print(\"Done!\")"
   ]
  },
  {
   "cell_type": "code",
   "execution_count": null,
   "id": "14d0e9d4-9e4d-4dae-a140-fe8a8c165120",
   "metadata": {},
   "outputs": [],
   "source": []
  }
 ],
 "metadata": {
  "kernelspec": {
   "display_name": "Python 3 (ipykernel)",
   "language": "python",
   "name": "python3"
  },
  "language_info": {
   "codemirror_mode": {
    "name": "ipython",
    "version": 3
   },
   "file_extension": ".py",
   "mimetype": "text/x-python",
   "name": "python",
   "nbconvert_exporter": "python",
   "pygments_lexer": "ipython3",
   "version": "3.11.0"
  }
 },
 "nbformat": 4,
 "nbformat_minor": 5
}
